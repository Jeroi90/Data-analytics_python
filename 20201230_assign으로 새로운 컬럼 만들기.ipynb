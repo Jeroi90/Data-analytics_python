{
 "metadata": {
  "language_info": {
   "codemirror_mode": {
    "name": "ipython",
    "version": 3
   },
   "file_extension": ".py",
   "mimetype": "text/x-python",
   "name": "python",
   "nbconvert_exporter": "python",
   "pygments_lexer": "ipython3",
   "version": "3.6.4-final"
  },
  "orig_nbformat": 2,
  "kernelspec": {
   "name": "python3",
   "display_name": "Python 3",
   "language": "python"
  }
 },
 "nbformat": 4,
 "nbformat_minor": 2,
 "cells": [
  {
   "source": [
    "## make new columns"
   ],
   "cell_type": "markdown",
   "metadata": {}
  },
  {
   "cell_type": "code",
   "execution_count": 1,
   "metadata": {},
   "outputs": [],
   "source": [
    "import pandas as pd"
   ]
  },
  {
   "cell_type": "code",
   "execution_count": 2,
   "metadata": {},
   "outputs": [],
   "source": [
    "df = pd.DataFrame([])"
   ]
  },
  {
   "cell_type": "code",
   "execution_count": 3,
   "metadata": {},
   "outputs": [
    {
     "output_type": "stream",
     "text": [
      "\u001b[0;31mSignature:\u001b[0m \u001b[0mdf\u001b[0m\u001b[0;34m.\u001b[0m\u001b[0massign\u001b[0m\u001b[0;34m(\u001b[0m\u001b[0;34m**\u001b[0m\u001b[0mkwargs\u001b[0m\u001b[0;34m)\u001b[0m \u001b[0;34m->\u001b[0m \u001b[0;34m'DataFrame'\u001b[0m\u001b[0;34m\u001b[0m\u001b[0m\n",
      "\u001b[0;31mDocstring:\u001b[0m\n",
      "Assign new columns to a DataFrame.\n",
      "\n",
      "Returns a new object with all original columns in addition to new ones.\n",
      "Existing columns that are re-assigned will be overwritten.\n",
      "\n",
      "Parameters\n",
      "----------\n",
      "**kwargs : dict of {str: callable or Series}\n",
      "    The column names are keywords. If the values are\n",
      "    callable, they are computed on the DataFrame and\n",
      "    assigned to the new columns. The callable must not\n",
      "    change input DataFrame (though pandas doesn't check it).\n",
      "    If the values are not callable, (e.g. a Series, scalar, or array),\n",
      "    they are simply assigned.\n",
      "\n",
      "Returns\n",
      "-------\n",
      "DataFrame\n",
      "    A new DataFrame with the new columns in addition to\n",
      "    all the existing columns.\n",
      "\n",
      "Notes\n",
      "-----\n",
      "Assigning multiple columns within the same ``assign`` is possible.\n",
      "Later items in '\\*\\*kwargs' may refer to newly created or modified\n",
      "columns in 'df'; items are computed and assigned into 'df' in order.\n",
      "\n",
      ".. versionchanged:: 0.23.0\n",
      "\n",
      "   Keyword argument order is maintained.\n",
      "\n",
      "Examples\n",
      "--------\n",
      ">>> df = pd.DataFrame({'temp_c': [17.0, 25.0]},\n",
      "...                   index=['Portland', 'Berkeley'])\n",
      ">>> df\n",
      "          temp_c\n",
      "Portland    17.0\n",
      "Berkeley    25.0\n",
      "\n",
      "Where the value is a callable, evaluated on `df`:\n",
      "\n",
      ">>> df.assign(temp_f=lambda x: x.temp_c * 9 / 5 + 32)\n",
      "          temp_c  temp_f\n",
      "Portland    17.0    62.6\n",
      "Berkeley    25.0    77.0\n",
      "\n",
      "Alternatively, the same behavior can be achieved by directly\n",
      "referencing an existing Series or sequence:\n",
      "\n",
      ">>> df.assign(temp_f=df['temp_c'] * 9 / 5 + 32)\n",
      "          temp_c  temp_f\n",
      "Portland    17.0    62.6\n",
      "Berkeley    25.0    77.0\n",
      "\n",
      "You can create multiple columns within the same assign where one\n",
      "of the columns depends on another one defined within the same assign:\n",
      "\n",
      ">>> df.assign(temp_f=lambda x: x['temp_c'] * 9 / 5 + 32,\n",
      "...           temp_k=lambda x: (x['temp_f'] +  459.67) * 5 / 9)\n",
      "          temp_c  temp_f  temp_k\n",
      "Portland    17.0    62.6  290.15\n",
      "Berkeley    25.0    77.0  298.15\n",
      "\u001b[0;31mFile:\u001b[0m      ~/anaconda3/lib/python3.6/site-packages/pandas/core/frame.py\n",
      "\u001b[0;31mType:\u001b[0m      method\n"
     ],
     "name": "stdout"
    }
   ],
   "source": [
    "df.assign?"
   ]
  },
  {
   "cell_type": "code",
   "execution_count": 7,
   "metadata": {},
   "outputs": [
    {
     "output_type": "execute_result",
     "data": {
      "text/plain": [
       "    A         B\n",
       "0   1 -0.872682\n",
       "1   2  0.274495\n",
       "2   3 -0.942743\n",
       "3   4  0.187626\n",
       "4   5  0.800405\n",
       "5   6  0.402906\n",
       "6   7  0.468942\n",
       "7   8  0.420222\n",
       "8   9 -1.066689\n",
       "9  10 -0.056426"
      ],
      "text/html": "<div>\n<style scoped>\n    .dataframe tbody tr th:only-of-type {\n        vertical-align: middle;\n    }\n\n    .dataframe tbody tr th {\n        vertical-align: top;\n    }\n\n    .dataframe thead th {\n        text-align: right;\n    }\n</style>\n<table border=\"1\" class=\"dataframe\">\n  <thead>\n    <tr style=\"text-align: right;\">\n      <th></th>\n      <th>A</th>\n      <th>B</th>\n    </tr>\n  </thead>\n  <tbody>\n    <tr>\n      <th>0</th>\n      <td>1</td>\n      <td>-0.872682</td>\n    </tr>\n    <tr>\n      <th>1</th>\n      <td>2</td>\n      <td>0.274495</td>\n    </tr>\n    <tr>\n      <th>2</th>\n      <td>3</td>\n      <td>-0.942743</td>\n    </tr>\n    <tr>\n      <th>3</th>\n      <td>4</td>\n      <td>0.187626</td>\n    </tr>\n    <tr>\n      <th>4</th>\n      <td>5</td>\n      <td>0.800405</td>\n    </tr>\n    <tr>\n      <th>5</th>\n      <td>6</td>\n      <td>0.402906</td>\n    </tr>\n    <tr>\n      <th>6</th>\n      <td>7</td>\n      <td>0.468942</td>\n    </tr>\n    <tr>\n      <th>7</th>\n      <td>8</td>\n      <td>0.420222</td>\n    </tr>\n    <tr>\n      <th>8</th>\n      <td>9</td>\n      <td>-1.066689</td>\n    </tr>\n    <tr>\n      <th>9</th>\n      <td>10</td>\n      <td>-0.056426</td>\n    </tr>\n  </tbody>\n</table>\n</div>"
     },
     "metadata": {},
     "execution_count": 7
    }
   ],
   "source": [
    "import numpy as np\n",
    "df = pd.DataFrame({'A' : range(1,11), 'B' : np.random.randn(10)})\n",
    "df"
   ]
  },
  {
   "cell_type": "code",
   "execution_count": 11,
   "metadata": {},
   "outputs": [
    {
     "output_type": "execute_result",
     "data": {
      "text/plain": [
       "   A         B      ln_A\n",
       "0  1 -0.872682  0.000000\n",
       "1  2  0.274495  0.693147\n",
       "2  3 -0.942743  1.098612\n",
       "3  4  0.187626  1.386294\n",
       "4  5  0.800405  1.609438"
      ],
      "text/html": "<div>\n<style scoped>\n    .dataframe tbody tr th:only-of-type {\n        vertical-align: middle;\n    }\n\n    .dataframe tbody tr th {\n        vertical-align: top;\n    }\n\n    .dataframe thead th {\n        text-align: right;\n    }\n</style>\n<table border=\"1\" class=\"dataframe\">\n  <thead>\n    <tr style=\"text-align: right;\">\n      <th></th>\n      <th>A</th>\n      <th>B</th>\n      <th>ln_A</th>\n    </tr>\n  </thead>\n  <tbody>\n    <tr>\n      <th>0</th>\n      <td>1</td>\n      <td>-0.872682</td>\n      <td>0.000000</td>\n    </tr>\n    <tr>\n      <th>1</th>\n      <td>2</td>\n      <td>0.274495</td>\n      <td>0.693147</td>\n    </tr>\n    <tr>\n      <th>2</th>\n      <td>3</td>\n      <td>-0.942743</td>\n      <td>1.098612</td>\n    </tr>\n    <tr>\n      <th>3</th>\n      <td>4</td>\n      <td>0.187626</td>\n      <td>1.386294</td>\n    </tr>\n    <tr>\n      <th>4</th>\n      <td>5</td>\n      <td>0.800405</td>\n      <td>1.609438</td>\n    </tr>\n  </tbody>\n</table>\n</div>"
     },
     "metadata": {},
     "execution_count": 11
    }
   ],
   "source": [
    "df.assign(ln_A = lambda x: np.log(x.A)).head()"
   ]
  },
  {
   "cell_type": "code",
   "execution_count": 12,
   "metadata": {},
   "outputs": [
    {
     "output_type": "execute_result",
     "data": {
      "text/plain": [
       "    A         B      ln_A\n",
       "0   1 -0.872682  0.000000\n",
       "1   2  0.274495  0.693147\n",
       "2   3 -0.942743  1.098612\n",
       "3   4  0.187626  1.386294\n",
       "4   5  0.800405  1.609438\n",
       "5   6  0.402906  1.791759\n",
       "6   7  0.468942  1.945910\n",
       "7   8  0.420222  2.079442\n",
       "8   9 -1.066689  2.197225\n",
       "9  10 -0.056426  2.302585"
      ],
      "text/html": "<div>\n<style scoped>\n    .dataframe tbody tr th:only-of-type {\n        vertical-align: middle;\n    }\n\n    .dataframe tbody tr th {\n        vertical-align: top;\n    }\n\n    .dataframe thead th {\n        text-align: right;\n    }\n</style>\n<table border=\"1\" class=\"dataframe\">\n  <thead>\n    <tr style=\"text-align: right;\">\n      <th></th>\n      <th>A</th>\n      <th>B</th>\n      <th>ln_A</th>\n    </tr>\n  </thead>\n  <tbody>\n    <tr>\n      <th>0</th>\n      <td>1</td>\n      <td>-0.872682</td>\n      <td>0.000000</td>\n    </tr>\n    <tr>\n      <th>1</th>\n      <td>2</td>\n      <td>0.274495</td>\n      <td>0.693147</td>\n    </tr>\n    <tr>\n      <th>2</th>\n      <td>3</td>\n      <td>-0.942743</td>\n      <td>1.098612</td>\n    </tr>\n    <tr>\n      <th>3</th>\n      <td>4</td>\n      <td>0.187626</td>\n      <td>1.386294</td>\n    </tr>\n    <tr>\n      <th>4</th>\n      <td>5</td>\n      <td>0.800405</td>\n      <td>1.609438</td>\n    </tr>\n    <tr>\n      <th>5</th>\n      <td>6</td>\n      <td>0.402906</td>\n      <td>1.791759</td>\n    </tr>\n    <tr>\n      <th>6</th>\n      <td>7</td>\n      <td>0.468942</td>\n      <td>1.945910</td>\n    </tr>\n    <tr>\n      <th>7</th>\n      <td>8</td>\n      <td>0.420222</td>\n      <td>2.079442</td>\n    </tr>\n    <tr>\n      <th>8</th>\n      <td>9</td>\n      <td>-1.066689</td>\n      <td>2.197225</td>\n    </tr>\n    <tr>\n      <th>9</th>\n      <td>10</td>\n      <td>-0.056426</td>\n      <td>2.302585</td>\n    </tr>\n  </tbody>\n</table>\n</div>"
     },
     "metadata": {},
     "execution_count": 12
    }
   ],
   "source": [
    "df[\"ln_A\"] = np.log(df.A)\n",
    "df"
   ]
  },
  {
   "cell_type": "code",
   "execution_count": 18,
   "metadata": {},
   "outputs": [
    {
     "output_type": "execute_result",
     "data": {
      "text/plain": [
       "    A         B      ln_A\n",
       "0   1 -0.872682  0.000000\n",
       "1   2  0.274495  0.693147\n",
       "2   3 -0.942743  1.098612\n",
       "3   4  0.187626  1.386294\n",
       "4   5  0.800405  1.609438\n",
       "5   6  0.402906  1.791759\n",
       "6   7  0.468942  1.945910\n",
       "7   8  0.420222  2.079442\n",
       "8   9 -1.066689  2.197225\n",
       "9  10 -0.056426  2.302585"
      ],
      "text/html": "<div>\n<style scoped>\n    .dataframe tbody tr th:only-of-type {\n        vertical-align: middle;\n    }\n\n    .dataframe tbody tr th {\n        vertical-align: top;\n    }\n\n    .dataframe thead th {\n        text-align: right;\n    }\n</style>\n<table border=\"1\" class=\"dataframe\">\n  <thead>\n    <tr style=\"text-align: right;\">\n      <th></th>\n      <th>A</th>\n      <th>B</th>\n      <th>ln_A</th>\n    </tr>\n  </thead>\n  <tbody>\n    <tr>\n      <th>0</th>\n      <td>1</td>\n      <td>-0.872682</td>\n      <td>0.000000</td>\n    </tr>\n    <tr>\n      <th>1</th>\n      <td>2</td>\n      <td>0.274495</td>\n      <td>0.693147</td>\n    </tr>\n    <tr>\n      <th>2</th>\n      <td>3</td>\n      <td>-0.942743</td>\n      <td>1.098612</td>\n    </tr>\n    <tr>\n      <th>3</th>\n      <td>4</td>\n      <td>0.187626</td>\n      <td>1.386294</td>\n    </tr>\n    <tr>\n      <th>4</th>\n      <td>5</td>\n      <td>0.800405</td>\n      <td>1.609438</td>\n    </tr>\n    <tr>\n      <th>5</th>\n      <td>6</td>\n      <td>0.402906</td>\n      <td>1.791759</td>\n    </tr>\n    <tr>\n      <th>6</th>\n      <td>7</td>\n      <td>0.468942</td>\n      <td>1.945910</td>\n    </tr>\n    <tr>\n      <th>7</th>\n      <td>8</td>\n      <td>0.420222</td>\n      <td>2.079442</td>\n    </tr>\n    <tr>\n      <th>8</th>\n      <td>9</td>\n      <td>-1.066689</td>\n      <td>2.197225</td>\n    </tr>\n    <tr>\n      <th>9</th>\n      <td>10</td>\n      <td>-0.056426</td>\n      <td>2.302585</td>\n    </tr>\n  </tbody>\n</table>\n</div>"
     },
     "metadata": {},
     "execution_count": 18
    }
   ],
   "source": []
  },
  {
   "source": [
    "## PD qcut \n",
    "### n개의 bucket만큼 빈 컬럼을 만들어준다"
   ],
   "cell_type": "markdown",
   "metadata": {}
  },
  {
   "cell_type": "code",
   "execution_count": 15,
   "metadata": {},
   "outputs": [
    {
     "output_type": "stream",
     "text": [
      "\u001b[0;31mSignature:\u001b[0m \u001b[0mpd\u001b[0m\u001b[0;34m.\u001b[0m\u001b[0mqcut\u001b[0m\u001b[0;34m(\u001b[0m\u001b[0mx\u001b[0m\u001b[0;34m,\u001b[0m \u001b[0mq\u001b[0m\u001b[0;34m,\u001b[0m \u001b[0mlabels\u001b[0m\u001b[0;34m=\u001b[0m\u001b[0;32mNone\u001b[0m\u001b[0;34m,\u001b[0m \u001b[0mretbins\u001b[0m\u001b[0;34m:\u001b[0m\u001b[0mbool\u001b[0m\u001b[0;34m=\u001b[0m\u001b[0;32mFalse\u001b[0m\u001b[0;34m,\u001b[0m \u001b[0mprecision\u001b[0m\u001b[0;34m:\u001b[0m\u001b[0mint\u001b[0m\u001b[0;34m=\u001b[0m\u001b[0;36m3\u001b[0m\u001b[0;34m,\u001b[0m \u001b[0mduplicates\u001b[0m\u001b[0;34m:\u001b[0m\u001b[0mstr\u001b[0m\u001b[0;34m=\u001b[0m\u001b[0;34m'raise'\u001b[0m\u001b[0;34m)\u001b[0m\u001b[0;34m\u001b[0m\u001b[0m\n",
      "\u001b[0;31mDocstring:\u001b[0m\n",
      "Quantile-based discretization function.\n",
      "\n",
      "Discretize variable into equal-sized buckets based on rank or based\n",
      "on sample quantiles. For example 1000 values for 10 quantiles would\n",
      "produce a Categorical object indicating quantile membership for each data point.\n",
      "\n",
      "Parameters\n",
      "----------\n",
      "x : 1d ndarray or Series\n",
      "q : int or list-like of int\n",
      "    Number of quantiles. 10 for deciles, 4 for quartiles, etc. Alternately\n",
      "    array of quantiles, e.g. [0, .25, .5, .75, 1.] for quartiles.\n",
      "labels : array or False, default None\n",
      "    Used as labels for the resulting bins. Must be of the same length as\n",
      "    the resulting bins. If False, return only integer indicators of the\n",
      "    bins. If True, raises an error.\n",
      "retbins : bool, optional\n",
      "    Whether to return the (bins, labels) or not. Can be useful if bins\n",
      "    is given as a scalar.\n",
      "precision : int, optional\n",
      "    The precision at which to store and display the bins labels.\n",
      "duplicates : {default 'raise', 'drop'}, optional\n",
      "    If bin edges are not unique, raise ValueError or drop non-uniques.\n",
      "\n",
      "Returns\n",
      "-------\n",
      "out : Categorical or Series or array of integers if labels is False\n",
      "    The return type (Categorical or Series) depends on the input: a Series\n",
      "    of type category if input is a Series else Categorical. Bins are\n",
      "    represented as categories when categorical data is returned.\n",
      "bins : ndarray of floats\n",
      "    Returned only if `retbins` is True.\n",
      "\n",
      "Notes\n",
      "-----\n",
      "Out of bounds values will be NA in the resulting Categorical object\n",
      "\n",
      "Examples\n",
      "--------\n",
      ">>> pd.qcut(range(5), 4)\n",
      "... # doctest: +ELLIPSIS\n",
      "[(-0.001, 1.0], (-0.001, 1.0], (1.0, 2.0], (2.0, 3.0], (3.0, 4.0]]\n",
      "Categories (4, interval[float64]): [(-0.001, 1.0] < (1.0, 2.0] ...\n",
      "\n",
      ">>> pd.qcut(range(5), 3, labels=[\"good\", \"medium\", \"bad\"])\n",
      "... # doctest: +SKIP\n",
      "[good, good, medium, bad, bad]\n",
      "Categories (3, object): [good < medium < bad]\n",
      "\n",
      ">>> pd.qcut(range(5), 4, labels=False)\n",
      "array([0, 0, 1, 2, 3])\n",
      "\u001b[0;31mFile:\u001b[0m      ~/anaconda3/lib/python3.6/site-packages/pandas/core/reshape/tile.py\n",
      "\u001b[0;31mType:\u001b[0m      function\n"
     ],
     "name": "stdout"
    }
   ],
   "source": [
    "pd.qcut?"
   ]
  },
  {
   "cell_type": "code",
   "execution_count": 22,
   "metadata": {},
   "outputs": [
    {
     "output_type": "execute_result",
     "data": {
      "text/plain": [
       "0      good\n",
       "1      good\n",
       "2      good\n",
       "3      good\n",
       "4    medium\n",
       "5    medium\n",
       "6    medium\n",
       "7       bad\n",
       "8       bad\n",
       "9       bad\n",
       "Name: A, dtype: category\n",
       "Categories (3, object): [good < medium < bad]"
      ]
     },
     "metadata": {},
     "execution_count": 22
    }
   ],
   "source": [
    "pd.qcut(df.A, 3, labels=[\"good\", \"medium\", \"bad\"])"
   ]
  },
  {
   "cell_type": "code",
   "execution_count": 24,
   "metadata": {},
   "outputs": [
    {
     "output_type": "execute_result",
     "data": {
      "text/plain": [
       "A       10.000000\n",
       "B        0.800405\n",
       "ln_A     2.302585\n",
       "dtype: float64"
      ]
     },
     "metadata": {},
     "execution_count": 24
    }
   ],
   "source": [
    "df.max(axis=0) # df.max(axis=1) : 열중에서 가장 큰 값 가져온다"
   ]
  },
  {
   "cell_type": "code",
   "execution_count": 27,
   "metadata": {},
   "outputs": [
    {
     "output_type": "execute_result",
     "data": {
      "text/plain": [
       "0    0.872682\n",
       "1    0.274495\n",
       "2    0.942743\n",
       "3    0.187626\n",
       "4    0.800405\n",
       "5    0.402906\n",
       "6    0.468942\n",
       "7    0.420222\n",
       "8    1.066689\n",
       "9    0.056426\n",
       "Name: B, dtype: float64"
      ]
     },
     "metadata": {},
     "execution_count": 27
    }
   ],
   "source": [
    "df[\"B\"].abs()"
   ]
  },
  {
   "cell_type": "code",
   "execution_count": null,
   "metadata": {},
   "outputs": [],
   "source": []
  }
 ]
}