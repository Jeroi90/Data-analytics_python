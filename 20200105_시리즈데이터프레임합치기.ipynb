{
 "metadata": {
  "language_info": {
   "codemirror_mode": {
    "name": "ipython",
    "version": 3
   },
   "file_extension": ".py",
   "mimetype": "text/x-python",
   "name": "python",
   "nbconvert_exporter": "python",
   "pygments_lexer": "ipython3",
   "version": "3.6.4-final"
  },
  "orig_nbformat": 2,
  "kernelspec": {
   "name": "python3",
   "display_name": "Python 3",
   "language": "python"
  }
 },
 "nbformat": 4,
 "nbformat_minor": 2,
 "cells": [
  {
   "cell_type": "code",
   "execution_count": 2,
   "metadata": {},
   "outputs": [
    {
     "output_type": "stream",
     "text": [
      "\u001b[0;31mSignature:\u001b[0m \u001b[0mpd\u001b[0m\u001b[0;34m.\u001b[0m\u001b[0mconcat\u001b[0m\u001b[0;34m(\u001b[0m\u001b[0mobjs\u001b[0m\u001b[0;34m:\u001b[0m\u001b[0mUnion\u001b[0m\u001b[0;34m[\u001b[0m\u001b[0mIterable\u001b[0m\u001b[0;34m[\u001b[0m\u001b[0mUnion\u001b[0m\u001b[0;34m[\u001b[0m\u001b[0m_ForwardRef\u001b[0m\u001b[0;34m(\u001b[0m\u001b[0;34m'DataFrame'\u001b[0m\u001b[0;34m)\u001b[0m\u001b[0;34m,\u001b[0m \u001b[0m_ForwardRef\u001b[0m\u001b[0;34m(\u001b[0m\u001b[0;34m'Series'\u001b[0m\u001b[0;34m)\u001b[0m\u001b[0;34m]\u001b[0m\u001b[0;34m]\u001b[0m\u001b[0;34m,\u001b[0m \u001b[0mMapping\u001b[0m\u001b[0;34m[\u001b[0m\u001b[0mcollections\u001b[0m\u001b[0;34m.\u001b[0m\u001b[0mabc\u001b[0m\u001b[0;34m.\u001b[0m\u001b[0mHashable\u001b[0m\u001b[0;34m,\u001b[0m \u001b[0mUnion\u001b[0m\u001b[0;34m[\u001b[0m\u001b[0m_ForwardRef\u001b[0m\u001b[0;34m(\u001b[0m\u001b[0;34m'DataFrame'\u001b[0m\u001b[0;34m)\u001b[0m\u001b[0;34m,\u001b[0m \u001b[0m_ForwardRef\u001b[0m\u001b[0;34m(\u001b[0m\u001b[0;34m'Series'\u001b[0m\u001b[0;34m)\u001b[0m\u001b[0;34m]\u001b[0m\u001b[0;34m]\u001b[0m\u001b[0;34m]\u001b[0m\u001b[0;34m,\u001b[0m \u001b[0maxis\u001b[0m\u001b[0;34m=\u001b[0m\u001b[0;36m0\u001b[0m\u001b[0;34m,\u001b[0m \u001b[0mjoin\u001b[0m\u001b[0;34m=\u001b[0m\u001b[0;34m'outer'\u001b[0m\u001b[0;34m,\u001b[0m \u001b[0mignore_index\u001b[0m\u001b[0;34m:\u001b[0m\u001b[0mbool\u001b[0m\u001b[0;34m=\u001b[0m\u001b[0;32mFalse\u001b[0m\u001b[0;34m,\u001b[0m \u001b[0mkeys\u001b[0m\u001b[0;34m=\u001b[0m\u001b[0;32mNone\u001b[0m\u001b[0;34m,\u001b[0m \u001b[0mlevels\u001b[0m\u001b[0;34m=\u001b[0m\u001b[0;32mNone\u001b[0m\u001b[0;34m,\u001b[0m \u001b[0mnames\u001b[0m\u001b[0;34m=\u001b[0m\u001b[0;32mNone\u001b[0m\u001b[0;34m,\u001b[0m \u001b[0mverify_integrity\u001b[0m\u001b[0;34m:\u001b[0m\u001b[0mbool\u001b[0m\u001b[0;34m=\u001b[0m\u001b[0;32mFalse\u001b[0m\u001b[0;34m,\u001b[0m \u001b[0msort\u001b[0m\u001b[0;34m:\u001b[0m\u001b[0mbool\u001b[0m\u001b[0;34m=\u001b[0m\u001b[0;32mFalse\u001b[0m\u001b[0;34m,\u001b[0m \u001b[0mcopy\u001b[0m\u001b[0;34m:\u001b[0m\u001b[0mbool\u001b[0m\u001b[0;34m=\u001b[0m\u001b[0;32mTrue\u001b[0m\u001b[0;34m)\u001b[0m \u001b[0;34m->\u001b[0m \u001b[0mUnion\u001b[0m\u001b[0;34m[\u001b[0m\u001b[0m_ForwardRef\u001b[0m\u001b[0;34m(\u001b[0m\u001b[0;34m'DataFrame'\u001b[0m\u001b[0;34m)\u001b[0m\u001b[0;34m,\u001b[0m \u001b[0m_ForwardRef\u001b[0m\u001b[0;34m(\u001b[0m\u001b[0;34m'Series'\u001b[0m\u001b[0;34m)\u001b[0m\u001b[0;34m]\u001b[0m\u001b[0;34m\u001b[0m\u001b[0m\n",
      "\u001b[0;31mDocstring:\u001b[0m\n",
      "Concatenate pandas objects along a particular axis with optional set logic\n",
      "along the other axes.\n",
      "\n",
      "Can also add a layer of hierarchical indexing on the concatenation axis,\n",
      "which may be useful if the labels are the same (or overlapping) on\n",
      "the passed axis number.\n",
      "\n",
      "Parameters\n",
      "----------\n",
      "objs : a sequence or mapping of Series or DataFrame objects\n",
      "    If a dict is passed, the sorted keys will be used as the `keys`\n",
      "    argument, unless it is passed, in which case the values will be\n",
      "    selected (see below). Any None objects will be dropped silently unless\n",
      "    they are all None in which case a ValueError will be raised.\n",
      "axis : {0/'index', 1/'columns'}, default 0\n",
      "    The axis to concatenate along.\n",
      "join : {'inner', 'outer'}, default 'outer'\n",
      "    How to handle indexes on other axis (or axes).\n",
      "ignore_index : bool, default False\n",
      "    If True, do not use the index values along the concatenation axis. The\n",
      "    resulting axis will be labeled 0, ..., n - 1. This is useful if you are\n",
      "    concatenating objects where the concatenation axis does not have\n",
      "    meaningful indexing information. Note the index values on the other\n",
      "    axes are still respected in the join.\n",
      "keys : sequence, default None\n",
      "    If multiple levels passed, should contain tuples. Construct\n",
      "    hierarchical index using the passed keys as the outermost level.\n",
      "levels : list of sequences, default None\n",
      "    Specific levels (unique values) to use for constructing a\n",
      "    MultiIndex. Otherwise they will be inferred from the keys.\n",
      "names : list, default None\n",
      "    Names for the levels in the resulting hierarchical index.\n",
      "verify_integrity : bool, default False\n",
      "    Check whether the new concatenated axis contains duplicates. This can\n",
      "    be very expensive relative to the actual data concatenation.\n",
      "sort : bool, default False\n",
      "    Sort non-concatenation axis if it is not already aligned when `join`\n",
      "    is 'outer'.\n",
      "    This has no effect when ``join='inner'``, which already preserves\n",
      "    the order of the non-concatenation axis.\n",
      "\n",
      "    .. versionadded:: 0.23.0\n",
      "    .. versionchanged:: 1.0.0\n",
      "\n",
      "       Changed to not sort by default.\n",
      "\n",
      "copy : bool, default True\n",
      "    If False, do not copy data unnecessarily.\n",
      "\n",
      "Returns\n",
      "-------\n",
      "object, type of objs\n",
      "    When concatenating all ``Series`` along the index (axis=0), a\n",
      "    ``Series`` is returned. When ``objs`` contains at least one\n",
      "    ``DataFrame``, a ``DataFrame`` is returned. When concatenating along\n",
      "    the columns (axis=1), a ``DataFrame`` is returned.\n",
      "\n",
      "See Also\n",
      "--------\n",
      "Series.append : Concatenate Series.\n",
      "DataFrame.append : Concatenate DataFrames.\n",
      "DataFrame.join : Join DataFrames using indexes.\n",
      "DataFrame.merge : Merge DataFrames by indexes or columns.\n",
      "\n",
      "Notes\n",
      "-----\n",
      "The keys, levels, and names arguments are all optional.\n",
      "\n",
      "A walkthrough of how this method fits in with other tools for combining\n",
      "pandas objects can be found `here\n",
      "<https://pandas.pydata.org/pandas-docs/stable/user_guide/merging.html>`__.\n",
      "\n",
      "Examples\n",
      "--------\n",
      "Combine two ``Series``.\n",
      "\n",
      ">>> s1 = pd.Series(['a', 'b'])\n",
      ">>> s2 = pd.Series(['c', 'd'])\n",
      ">>> pd.concat([s1, s2])\n",
      "0    a\n",
      "1    b\n",
      "0    c\n",
      "1    d\n",
      "dtype: object\n",
      "\n",
      "Clear the existing index and reset it in the result\n",
      "by setting the ``ignore_index`` option to ``True``.\n",
      "\n",
      ">>> pd.concat([s1, s2], ignore_index=True)\n",
      "0    a\n",
      "1    b\n",
      "2    c\n",
      "3    d\n",
      "dtype: object\n",
      "\n",
      "Add a hierarchical index at the outermost level of\n",
      "the data with the ``keys`` option.\n",
      "\n",
      ">>> pd.concat([s1, s2], keys=['s1', 's2'])\n",
      "s1  0    a\n",
      "    1    b\n",
      "s2  0    c\n",
      "    1    d\n",
      "dtype: object\n",
      "\n",
      "Label the index keys you create with the ``names`` option.\n",
      "\n",
      ">>> pd.concat([s1, s2], keys=['s1', 's2'],\n",
      "...           names=['Series name', 'Row ID'])\n",
      "Series name  Row ID\n",
      "s1           0         a\n",
      "             1         b\n",
      "s2           0         c\n",
      "             1         d\n",
      "dtype: object\n",
      "\n",
      "Combine two ``DataFrame`` objects with identical columns.\n",
      "\n",
      ">>> df1 = pd.DataFrame([['a', 1], ['b', 2]],\n",
      "...                    columns=['letter', 'number'])\n",
      ">>> df1\n",
      "  letter  number\n",
      "0      a       1\n",
      "1      b       2\n",
      ">>> df2 = pd.DataFrame([['c', 3], ['d', 4]],\n",
      "...                    columns=['letter', 'number'])\n",
      ">>> df2\n",
      "  letter  number\n",
      "0      c       3\n",
      "1      d       4\n",
      ">>> pd.concat([df1, df2])\n",
      "  letter  number\n",
      "0      a       1\n",
      "1      b       2\n",
      "0      c       3\n",
      "1      d       4\n",
      "\n",
      "Combine ``DataFrame`` objects with overlapping columns\n",
      "and return everything. Columns outside the intersection will\n",
      "be filled with ``NaN`` values.\n",
      "\n",
      ">>> df3 = pd.DataFrame([['c', 3, 'cat'], ['d', 4, 'dog']],\n",
      "...                    columns=['letter', 'number', 'animal'])\n",
      ">>> df3\n",
      "  letter  number animal\n",
      "0      c       3    cat\n",
      "1      d       4    dog\n",
      ">>> pd.concat([df1, df3], sort=False)\n",
      "  letter  number animal\n",
      "0      a       1    NaN\n",
      "1      b       2    NaN\n",
      "0      c       3    cat\n",
      "1      d       4    dog\n",
      "\n",
      "Combine ``DataFrame`` objects with overlapping columns\n",
      "and return only those that are shared by passing ``inner`` to\n",
      "the ``join`` keyword argument.\n",
      "\n",
      ">>> pd.concat([df1, df3], join=\"inner\")\n",
      "  letter  number\n",
      "0      a       1\n",
      "1      b       2\n",
      "0      c       3\n",
      "1      d       4\n",
      "\n",
      "Combine ``DataFrame`` objects horizontally along the x axis by\n",
      "passing in ``axis=1``.\n",
      "\n",
      ">>> df4 = pd.DataFrame([['bird', 'polly'], ['monkey', 'george']],\n",
      "...                    columns=['animal', 'name'])\n",
      ">>> pd.concat([df1, df4], axis=1)\n",
      "  letter  number  animal    name\n",
      "0      a       1    bird   polly\n",
      "1      b       2  monkey  george\n",
      "\n",
      "Prevent the result from including duplicate index values with the\n",
      "``verify_integrity`` option.\n",
      "\n",
      ">>> df5 = pd.DataFrame([1], index=['a'])\n",
      ">>> df5\n",
      "   0\n",
      "a  1\n",
      ">>> df6 = pd.DataFrame([2], index=['a'])\n",
      ">>> df6\n",
      "   0\n",
      "a  2\n",
      ">>> pd.concat([df5, df6], verify_integrity=True)\n",
      "Traceback (most recent call last):\n",
      "    ...\n",
      "ValueError: Indexes have overlapping values: ['a']\n",
      "\u001b[0;31mFile:\u001b[0m      ~/anaconda3/lib/python3.6/site-packages/pandas/core/reshape/concat.py\n",
      "\u001b[0;31mType:\u001b[0m      function\n"
     ],
     "name": "stdout"
    }
   ],
   "source": [
    "#SQL 에서 union all / union 과 같은 기능을 하는 pd.concat\n",
    "import pandas as pd\n",
    "pd.concat?"
   ]
  },
  {
   "cell_type": "code",
   "execution_count": 3,
   "metadata": {},
   "outputs": [
    {
     "output_type": "execute_result",
     "data": {
      "text/plain": [
       "0    a\n",
       "1    b\n",
       "dtype: object"
      ]
     },
     "metadata": {},
     "execution_count": 3
    }
   ],
   "source": [
    "s1 = pd.Series(['a','b'])\n",
    "s1"
   ]
  },
  {
   "cell_type": "code",
   "execution_count": 5,
   "metadata": {},
   "outputs": [
    {
     "output_type": "execute_result",
     "data": {
      "text/plain": [
       "0    c\n",
       "1    d\n",
       "dtype: object"
      ]
     },
     "metadata": {},
     "execution_count": 5
    }
   ],
   "source": [
    "s2 = pd.Series(['c','d'])\n",
    "s2"
   ]
  },
  {
   "cell_type": "code",
   "execution_count": 10,
   "metadata": {},
   "outputs": [
    {
     "output_type": "execute_result",
     "data": {
      "text/plain": [
       "0    a\n",
       "1    b\n",
       "2    c\n",
       "3    d\n",
       "dtype: object"
      ]
     },
     "metadata": {},
     "execution_count": 10
    }
   ],
   "source": [
    "pd.concat([s1,s2],  ignore_index=True) # list 안에 넣어서 concat 해야한다 index를 다시 재설정하는 option"
   ]
  },
  {
   "cell_type": "code",
   "execution_count": 23,
   "metadata": {},
   "outputs": [
    {
     "output_type": "execute_result",
     "data": {
      "text/plain": [
       "0    a\n",
       "1    b\n",
       "0    c\n",
       "1    d\n",
       "dtype: object"
      ]
     },
     "metadata": {},
     "execution_count": 23
    }
   ],
   "source": [
    "df1 = pd.concat([s1,s2], keys=['s1','s2'],  names=['Series_name', 'Row_id']) # ignore_index, names option은 같이 쓸 수 없는 것으로 보인다.\n",
    "df1"
   ]
  },
  {
   "cell_type": "code",
   "execution_count": 28,
   "metadata": {},
   "outputs": [
    {
     "output_type": "execute_result",
     "data": {
      "text/plain": [
       "  letter  number\n",
       "0      a       1\n",
       "1      b       2"
      ],
      "text/html": "<div>\n<style scoped>\n    .dataframe tbody tr th:only-of-type {\n        vertical-align: middle;\n    }\n\n    .dataframe tbody tr th {\n        vertical-align: top;\n    }\n\n    .dataframe thead th {\n        text-align: right;\n    }\n</style>\n<table border=\"1\" class=\"dataframe\">\n  <thead>\n    <tr style=\"text-align: right;\">\n      <th></th>\n      <th>letter</th>\n      <th>number</th>\n    </tr>\n  </thead>\n  <tbody>\n    <tr>\n      <th>0</th>\n      <td>a</td>\n      <td>1</td>\n    </tr>\n    <tr>\n      <th>1</th>\n      <td>b</td>\n      <td>2</td>\n    </tr>\n  </tbody>\n</table>\n</div>"
     },
     "metadata": {},
     "execution_count": 28
    }
   ],
   "source": [
    "df1 = pd.DataFrame([['a',1],['b',2]], columns=['letter', 'number'])\n",
    "df1"
   ]
  },
  {
   "cell_type": "code",
   "execution_count": 29,
   "metadata": {},
   "outputs": [
    {
     "output_type": "execute_result",
     "data": {
      "text/plain": [
       "  letter  number\n",
       "0      c       3\n",
       "1      d       4"
      ],
      "text/html": "<div>\n<style scoped>\n    .dataframe tbody tr th:only-of-type {\n        vertical-align: middle;\n    }\n\n    .dataframe tbody tr th {\n        vertical-align: top;\n    }\n\n    .dataframe thead th {\n        text-align: right;\n    }\n</style>\n<table border=\"1\" class=\"dataframe\">\n  <thead>\n    <tr style=\"text-align: right;\">\n      <th></th>\n      <th>letter</th>\n      <th>number</th>\n    </tr>\n  </thead>\n  <tbody>\n    <tr>\n      <th>0</th>\n      <td>c</td>\n      <td>3</td>\n    </tr>\n    <tr>\n      <th>1</th>\n      <td>d</td>\n      <td>4</td>\n    </tr>\n  </tbody>\n</table>\n</div>"
     },
     "metadata": {},
     "execution_count": 29
    }
   ],
   "source": [
    "df2 = pd.DataFrame([['c',3],['d',4]], columns=['letter', 'number'])\n",
    "df2"
   ]
  },
  {
   "cell_type": "code",
   "execution_count": 32,
   "metadata": {},
   "outputs": [
    {
     "output_type": "execute_result",
     "data": {
      "text/plain": [
       "  letter  number\n",
       "0      a       1\n",
       "1      b       2\n",
       "0      c       3\n",
       "1      d       4"
      ],
      "text/html": "<div>\n<style scoped>\n    .dataframe tbody tr th:only-of-type {\n        vertical-align: middle;\n    }\n\n    .dataframe tbody tr th {\n        vertical-align: top;\n    }\n\n    .dataframe thead th {\n        text-align: right;\n    }\n</style>\n<table border=\"1\" class=\"dataframe\">\n  <thead>\n    <tr style=\"text-align: right;\">\n      <th></th>\n      <th>letter</th>\n      <th>number</th>\n    </tr>\n  </thead>\n  <tbody>\n    <tr>\n      <th>0</th>\n      <td>a</td>\n      <td>1</td>\n    </tr>\n    <tr>\n      <th>1</th>\n      <td>b</td>\n      <td>2</td>\n    </tr>\n    <tr>\n      <th>0</th>\n      <td>c</td>\n      <td>3</td>\n    </tr>\n    <tr>\n      <th>1</th>\n      <td>d</td>\n      <td>4</td>\n    </tr>\n  </tbody>\n</table>\n</div>"
     },
     "metadata": {},
     "execution_count": 32
    }
   ],
   "source": [
    "pd.concat([df1,df2]) # 반드시 concat은 list 형태로 데이터를 묶어줘야 한다."
   ]
  },
  {
   "cell_type": "code",
   "execution_count": 35,
   "metadata": {},
   "outputs": [
    {
     "output_type": "execute_result",
     "data": {
      "text/plain": [
       "  letter  number animal\n",
       "0      c       3    cat\n",
       "1      d       4    dog"
      ],
      "text/html": "<div>\n<style scoped>\n    .dataframe tbody tr th:only-of-type {\n        vertical-align: middle;\n    }\n\n    .dataframe tbody tr th {\n        vertical-align: top;\n    }\n\n    .dataframe thead th {\n        text-align: right;\n    }\n</style>\n<table border=\"1\" class=\"dataframe\">\n  <thead>\n    <tr style=\"text-align: right;\">\n      <th></th>\n      <th>letter</th>\n      <th>number</th>\n      <th>animal</th>\n    </tr>\n  </thead>\n  <tbody>\n    <tr>\n      <th>0</th>\n      <td>c</td>\n      <td>3</td>\n      <td>cat</td>\n    </tr>\n    <tr>\n      <th>1</th>\n      <td>d</td>\n      <td>4</td>\n      <td>dog</td>\n    </tr>\n  </tbody>\n</table>\n</div>"
     },
     "metadata": {},
     "execution_count": 35
    }
   ],
   "source": [
    "df3 = pd.DataFrame([['c',3,'cat'],['d',4,'dog']], columns=['letter','number','animal'])\n",
    "df3"
   ]
  },
  {
   "cell_type": "code",
   "execution_count": 38,
   "metadata": {},
   "outputs": [
    {
     "output_type": "execute_result",
     "data": {
      "text/plain": [
       "  letter  number\n",
       "0      a       1\n",
       "1      b       2\n",
       "0      c       3\n",
       "1      d       4"
      ],
      "text/html": "<div>\n<style scoped>\n    .dataframe tbody tr th:only-of-type {\n        vertical-align: middle;\n    }\n\n    .dataframe tbody tr th {\n        vertical-align: top;\n    }\n\n    .dataframe thead th {\n        text-align: right;\n    }\n</style>\n<table border=\"1\" class=\"dataframe\">\n  <thead>\n    <tr style=\"text-align: right;\">\n      <th></th>\n      <th>letter</th>\n      <th>number</th>\n    </tr>\n  </thead>\n  <tbody>\n    <tr>\n      <th>0</th>\n      <td>a</td>\n      <td>1</td>\n    </tr>\n    <tr>\n      <th>1</th>\n      <td>b</td>\n      <td>2</td>\n    </tr>\n    <tr>\n      <th>0</th>\n      <td>c</td>\n      <td>3</td>\n    </tr>\n    <tr>\n      <th>1</th>\n      <td>d</td>\n      <td>4</td>\n    </tr>\n  </tbody>\n</table>\n</div>"
     },
     "metadata": {},
     "execution_count": 38
    }
   ],
   "source": [
    "# 컬럼수가 다른 데이터끼리 concat 하는 경우\n",
    "pd.concat([df1,df3], join=\"inner\") # join option에서 inner 거는 경우 animal은 두 데이터에 공통으로 있는 데이터가 아니므로 제외\n"
   ]
  },
  {
   "cell_type": "code",
   "execution_count": 39,
   "metadata": {},
   "outputs": [
    {
     "output_type": "execute_result",
     "data": {
      "text/plain": [
       "  letter  number animal\n",
       "0      a       1    NaN\n",
       "1      b       2    NaN\n",
       "0      c       3    cat\n",
       "1      d       4    dog"
      ],
      "text/html": "<div>\n<style scoped>\n    .dataframe tbody tr th:only-of-type {\n        vertical-align: middle;\n    }\n\n    .dataframe tbody tr th {\n        vertical-align: top;\n    }\n\n    .dataframe thead th {\n        text-align: right;\n    }\n</style>\n<table border=\"1\" class=\"dataframe\">\n  <thead>\n    <tr style=\"text-align: right;\">\n      <th></th>\n      <th>letter</th>\n      <th>number</th>\n      <th>animal</th>\n    </tr>\n  </thead>\n  <tbody>\n    <tr>\n      <th>0</th>\n      <td>a</td>\n      <td>1</td>\n      <td>NaN</td>\n    </tr>\n    <tr>\n      <th>1</th>\n      <td>b</td>\n      <td>2</td>\n      <td>NaN</td>\n    </tr>\n    <tr>\n      <th>0</th>\n      <td>c</td>\n      <td>3</td>\n      <td>cat</td>\n    </tr>\n    <tr>\n      <th>1</th>\n      <td>d</td>\n      <td>4</td>\n      <td>dog</td>\n    </tr>\n  </tbody>\n</table>\n</div>"
     },
     "metadata": {},
     "execution_count": 39
    }
   ],
   "source": [
    "pd.concat([df1,df3], join=\"outer\")"
   ]
  },
  {
   "cell_type": "code",
   "execution_count": null,
   "metadata": {},
   "outputs": [],
   "source": []
  }
 ]
}