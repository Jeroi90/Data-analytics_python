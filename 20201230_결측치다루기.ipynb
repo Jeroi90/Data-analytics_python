{
 "metadata": {
  "language_info": {
   "codemirror_mode": {
    "name": "ipython",
    "version": 3
   },
   "file_extension": ".py",
   "mimetype": "text/x-python",
   "name": "python",
   "nbconvert_exporter": "python",
   "pygments_lexer": "ipython3",
   "version": "3.6.4-final"
  },
  "orig_nbformat": 2,
  "kernelspec": {
   "name": "python3",
   "display_name": "Python 3",
   "language": "python"
  }
 },
 "nbformat": 4,
 "nbformat_minor": 2,
 "cells": [
  {
   "cell_type": "code",
   "execution_count": 4,
   "metadata": {},
   "outputs": [],
   "source": [
    "import pandas as pd\n",
    "import numpy as np\n",
    "df = pd.DataFrame([])"
   ]
  },
  {
   "cell_type": "code",
   "execution_count": 5,
   "metadata": {},
   "outputs": [
    {
     "output_type": "stream",
     "text": [
      "\u001b[0;31mSignature:\u001b[0m \u001b[0mdf\u001b[0m\u001b[0;34m.\u001b[0m\u001b[0mdropna\u001b[0m\u001b[0;34m(\u001b[0m\u001b[0maxis\u001b[0m\u001b[0;34m=\u001b[0m\u001b[0;36m0\u001b[0m\u001b[0;34m,\u001b[0m \u001b[0mhow\u001b[0m\u001b[0;34m=\u001b[0m\u001b[0;34m'any'\u001b[0m\u001b[0;34m,\u001b[0m \u001b[0mthresh\u001b[0m\u001b[0;34m=\u001b[0m\u001b[0;32mNone\u001b[0m\u001b[0;34m,\u001b[0m \u001b[0msubset\u001b[0m\u001b[0;34m=\u001b[0m\u001b[0;32mNone\u001b[0m\u001b[0;34m,\u001b[0m \u001b[0minplace\u001b[0m\u001b[0;34m=\u001b[0m\u001b[0;32mFalse\u001b[0m\u001b[0;34m)\u001b[0m\u001b[0;34m\u001b[0m\u001b[0m\n",
      "\u001b[0;31mDocstring:\u001b[0m\n",
      "Remove missing values.\n",
      "\n",
      "See the :ref:`User Guide <missing_data>` for more on which values are\n",
      "considered missing, and how to work with missing data.\n",
      "\n",
      "Parameters\n",
      "----------\n",
      "axis : {0 or 'index', 1 or 'columns'}, default 0\n",
      "    Determine if rows or columns which contain missing values are\n",
      "    removed.\n",
      "\n",
      "    * 0, or 'index' : Drop rows which contain missing values.\n",
      "    * 1, or 'columns' : Drop columns which contain missing value.\n",
      "\n",
      "    .. versionchanged:: 1.0.0\n",
      "\n",
      "       Pass tuple or list to drop on multiple axes.\n",
      "       Only a single axis is allowed.\n",
      "\n",
      "how : {'any', 'all'}, default 'any'\n",
      "    Determine if row or column is removed from DataFrame, when we have\n",
      "    at least one NA or all NA.\n",
      "\n",
      "    * 'any' : If any NA values are present, drop that row or column.\n",
      "    * 'all' : If all values are NA, drop that row or column.\n",
      "\n",
      "thresh : int, optional\n",
      "    Require that many non-NA values.\n",
      "subset : array-like, optional\n",
      "    Labels along other axis to consider, e.g. if you are dropping rows\n",
      "    these would be a list of columns to include.\n",
      "inplace : bool, default False\n",
      "    If True, do operation inplace and return None.\n",
      "\n",
      "Returns\n",
      "-------\n",
      "DataFrame\n",
      "    DataFrame with NA entries dropped from it.\n",
      "\n",
      "See Also\n",
      "--------\n",
      "DataFrame.isna: Indicate missing values.\n",
      "DataFrame.notna : Indicate existing (non-missing) values.\n",
      "DataFrame.fillna : Replace missing values.\n",
      "Series.dropna : Drop missing values.\n",
      "Index.dropna : Drop missing indices.\n",
      "\n",
      "Examples\n",
      "--------\n",
      ">>> df = pd.DataFrame({\"name\": ['Alfred', 'Batman', 'Catwoman'],\n",
      "...                    \"toy\": [np.nan, 'Batmobile', 'Bullwhip'],\n",
      "...                    \"born\": [pd.NaT, pd.Timestamp(\"1940-04-25\"),\n",
      "...                             pd.NaT]})\n",
      ">>> df\n",
      "       name        toy       born\n",
      "0    Alfred        NaN        NaT\n",
      "1    Batman  Batmobile 1940-04-25\n",
      "2  Catwoman   Bullwhip        NaT\n",
      "\n",
      "Drop the rows where at least one element is missing.\n",
      "\n",
      ">>> df.dropna()\n",
      "     name        toy       born\n",
      "1  Batman  Batmobile 1940-04-25\n",
      "\n",
      "Drop the columns where at least one element is missing.\n",
      "\n",
      ">>> df.dropna(axis='columns')\n",
      "       name\n",
      "0    Alfred\n",
      "1    Batman\n",
      "2  Catwoman\n",
      "\n",
      "Drop the rows where all elements are missing.\n",
      "\n",
      ">>> df.dropna(how='all')\n",
      "       name        toy       born\n",
      "0    Alfred        NaN        NaT\n",
      "1    Batman  Batmobile 1940-04-25\n",
      "2  Catwoman   Bullwhip        NaT\n",
      "\n",
      "Keep only the rows with at least 2 non-NA values.\n",
      "\n",
      ">>> df.dropna(thresh=2)\n",
      "       name        toy       born\n",
      "1    Batman  Batmobile 1940-04-25\n",
      "2  Catwoman   Bullwhip        NaT\n",
      "\n",
      "Define in which columns to look for missing values.\n",
      "\n",
      ">>> df.dropna(subset=['name', 'born'])\n",
      "       name        toy       born\n",
      "1    Batman  Batmobile 1940-04-25\n",
      "\n",
      "Keep the DataFrame with valid entries in the same variable.\n",
      "\n",
      ">>> df.dropna(inplace=True)\n",
      ">>> df\n",
      "     name        toy       born\n",
      "1  Batman  Batmobile 1940-04-25\n",
      "\u001b[0;31mFile:\u001b[0m      ~/anaconda3/lib/python3.6/site-packages/pandas/core/frame.py\n",
      "\u001b[0;31mType:\u001b[0m      method\n"
     ],
     "name": "stdout"
    }
   ],
   "source": [
    "df.dropna?"
   ]
  },
  {
   "cell_type": "code",
   "execution_count": 6,
   "metadata": {},
   "outputs": [],
   "source": [
    "df = pd.DataFrame({\"name\": ['Alfred', 'Batman', 'Catwoman'],\n",
    "                    \"toy\": [np.nan, 'Batmobile', 'Bullwhip'],\n",
    "                    \"born\": [pd.NaT, pd.Timestamp(\"1940-04-25\"),\n",
    "                             pd.NaT]})"
   ]
  },
  {
   "cell_type": "code",
   "execution_count": 7,
   "metadata": {},
   "outputs": [
    {
     "output_type": "execute_result",
     "data": {
      "text/plain": [
       "       name        toy       born\n",
       "0    Alfred        NaN        NaT\n",
       "1    Batman  Batmobile 1940-04-25\n",
       "2  Catwoman   Bullwhip        NaT"
      ],
      "text/html": "<div>\n<style scoped>\n    .dataframe tbody tr th:only-of-type {\n        vertical-align: middle;\n    }\n\n    .dataframe tbody tr th {\n        vertical-align: top;\n    }\n\n    .dataframe thead th {\n        text-align: right;\n    }\n</style>\n<table border=\"1\" class=\"dataframe\">\n  <thead>\n    <tr style=\"text-align: right;\">\n      <th></th>\n      <th>name</th>\n      <th>toy</th>\n      <th>born</th>\n    </tr>\n  </thead>\n  <tbody>\n    <tr>\n      <th>0</th>\n      <td>Alfred</td>\n      <td>NaN</td>\n      <td>NaT</td>\n    </tr>\n    <tr>\n      <th>1</th>\n      <td>Batman</td>\n      <td>Batmobile</td>\n      <td>1940-04-25</td>\n    </tr>\n    <tr>\n      <th>2</th>\n      <td>Catwoman</td>\n      <td>Bullwhip</td>\n      <td>NaT</td>\n    </tr>\n  </tbody>\n</table>\n</div>"
     },
     "metadata": {},
     "execution_count": 7
    }
   ],
   "source": [
    "df"
   ]
  },
  {
   "cell_type": "code",
   "execution_count": 17,
   "metadata": {},
   "outputs": [
    {
     "output_type": "execute_result",
     "data": {
      "text/plain": [
       "     name        toy       born\n",
       "1  Batman  Batmobile 1940-04-25"
      ],
      "text/html": "<div>\n<style scoped>\n    .dataframe tbody tr th:only-of-type {\n        vertical-align: middle;\n    }\n\n    .dataframe tbody tr th {\n        vertical-align: top;\n    }\n\n    .dataframe thead th {\n        text-align: right;\n    }\n</style>\n<table border=\"1\" class=\"dataframe\">\n  <thead>\n    <tr style=\"text-align: right;\">\n      <th></th>\n      <th>name</th>\n      <th>toy</th>\n      <th>born</th>\n    </tr>\n  </thead>\n  <tbody>\n    <tr>\n      <th>1</th>\n      <td>Batman</td>\n      <td>Batmobile</td>\n      <td>1940-04-25</td>\n    </tr>\n  </tbody>\n</table>\n</div>"
     },
     "metadata": {},
     "execution_count": 17
    }
   ],
   "source": [
    "df.dropna(axis = 0) # null 값은 지운다 axis 1은 column , 0은 row"
   ]
  },
  {
   "cell_type": "code",
   "execution_count": 24,
   "metadata": {},
   "outputs": [
    {
     "output_type": "execute_result",
     "data": {
      "text/plain": [
       "       name          toy                 born\n",
       "0    Alfred  Not defined  9999-12-31 00:00:00\n",
       "1    Batman    Batmobile  1940-04-25 00:00:00\n",
       "2  Catwoman     Bullwhip  9999-12-31 00:00:00"
      ],
      "text/html": "<div>\n<style scoped>\n    .dataframe tbody tr th:only-of-type {\n        vertical-align: middle;\n    }\n\n    .dataframe tbody tr th {\n        vertical-align: top;\n    }\n\n    .dataframe thead th {\n        text-align: right;\n    }\n</style>\n<table border=\"1\" class=\"dataframe\">\n  <thead>\n    <tr style=\"text-align: right;\">\n      <th></th>\n      <th>name</th>\n      <th>toy</th>\n      <th>born</th>\n    </tr>\n  </thead>\n  <tbody>\n    <tr>\n      <th>0</th>\n      <td>Alfred</td>\n      <td>Not defined</td>\n      <td>9999-12-31 00:00:00</td>\n    </tr>\n    <tr>\n      <th>1</th>\n      <td>Batman</td>\n      <td>Batmobile</td>\n      <td>1940-04-25 00:00:00</td>\n    </tr>\n    <tr>\n      <th>2</th>\n      <td>Catwoman</td>\n      <td>Bullwhip</td>\n      <td>9999-12-31 00:00:00</td>\n    </tr>\n  </tbody>\n</table>\n</div>"
     },
     "metadata": {},
     "execution_count": 24
    }
   ],
   "source": [
    "fillna = {'toy':'Not defined','born':'9999-12-31 00:00:00'}\n",
    "df.fillna(value=fillna)"
   ]
  },
  {
   "cell_type": "code",
   "execution_count": 28,
   "metadata": {},
   "outputs": [
    {
     "output_type": "execute_result",
     "data": {
      "text/plain": [
       "name    0\n",
       "toy     1\n",
       "born    2\n",
       "dtype: int64"
      ]
     },
     "metadata": {},
     "execution_count": 28
    }
   ],
   "source": [
    "df.isnull().sum()"
   ]
  },
  {
   "cell_type": "code",
   "execution_count": null,
   "metadata": {},
   "outputs": [],
   "source": []
  }
 ]
}